{
 "cells": [
  {
   "cell_type": "code",
   "execution_count": 1,
   "id": "e0388fca-cb78-44da-ac09-4388591ea103",
   "metadata": {},
   "outputs": [],
   "source": [
    "import networkx as nx"
   ]
  },
  {
   "cell_type": "code",
   "execution_count": 2,
   "id": "e828e57f-6f96-441c-8aa3-de5f353626e8",
   "metadata": {},
   "outputs": [],
   "source": [
    "import numpy as np"
   ]
  },
  {
   "cell_type": "code",
   "execution_count": 3,
   "id": "2a9863fc-4137-4642-80f8-1d8a390dff14",
   "metadata": {},
   "outputs": [],
   "source": [
    "from collections import Counter"
   ]
  },
  {
   "cell_type": "code",
   "execution_count": 4,
   "id": "8964b651-ead7-4e43-b966-40195383efb4",
   "metadata": {},
   "outputs": [],
   "source": [
    "import multiprocessing as mp"
   ]
  },
  {
   "cell_type": "code",
   "execution_count": 5,
   "id": "c72a4e93-5d14-4ea7-ab95-a2fbe903bc75",
   "metadata": {},
   "outputs": [],
   "source": [
    "gw = nx.read_edgelist('./data/web-Google.txt', comments='#')"
   ]
  },
  {
   "cell_type": "code",
   "execution_count": 6,
   "id": "83bda490-5987-40b2-908e-128674b10fc9",
   "metadata": {},
   "outputs": [],
   "source": [
    "def cycle_count_radius(node, G=gw, radius=2):\n",
    "    _g = nx.ego_graph(G, node, radius=2)\n",
    "    return (node, Counter(map(len, nx.cycle_basis(_g, node))))"
   ]
  },
  {
   "cell_type": "code",
   "execution_count": null,
   "id": "7503c094-d446-4bbd-8fdd-e1f71f3e4696",
   "metadata": {},
   "outputs": [],
   "source": [
    "%%time\n",
    "\n",
    "nodes = list(gw.nodes())\n",
    "\n",
    "# Expect 2 hours\n",
    "with mp.Pool(16) as p:\n",
    "    results = p.map(cycle_count_radius, nodes)"
   ]
  },
  {
   "cell_type": "code",
   "execution_count": null,
   "id": "c9720890-9e37-40b7-b928-f4c3a0786852",
   "metadata": {},
   "outputs": [],
   "source": []
  }
 ],
 "metadata": {
  "kernelspec": {
   "display_name": "Python 3 (ipykernel)",
   "language": "python",
   "name": "python3"
  },
  "language_info": {
   "codemirror_mode": {
    "name": "ipython",
    "version": 3
   },
   "file_extension": ".py",
   "mimetype": "text/x-python",
   "name": "python",
   "nbconvert_exporter": "python",
   "pygments_lexer": "ipython3",
   "version": "3.10.0"
  }
 },
 "nbformat": 4,
 "nbformat_minor": 5
}
